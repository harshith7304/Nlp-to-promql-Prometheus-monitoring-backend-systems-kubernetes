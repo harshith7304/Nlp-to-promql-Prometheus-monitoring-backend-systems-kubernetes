{
 "cells": [
  {
   "cell_type": "markdown",
   "metadata": {},
   "source": [
    "# Setting up Environment"
   ]
  },
  {
   "cell_type": "code",
   "execution_count": 1,
   "metadata": {},
   "outputs": [],
   "source": [
    "import os\n",
    "from dotenv import load_dotenv\n",
    "\n",
    "load_dotenv()\n",
    "os.environ[\"LANGCHAIN_API_KEY\"] = os.getenv(\"LANGCHAIN_API_KEY \")\n",
    "os.environ[\"LANGCHAIN_TRACING_V2\"] = \"false\"\n",
    "os.environ[\"USER_AGENT\"] = \"myagent\"\n",
    "os.environ[\"TOKENIZERS_PARALLELISM\"] = \"false\"\n",
    "\n",
    "os.environ[\"GROQ_API_KEY\"] = os.getenv(\"GROQ_API_KEY\")\n",
    "\n",
    "from langchain_groq import ChatGroq\n",
    "\n",
    "llm = ChatGroq(model=\"llama-3.1-8b-instant\")"
   ]
  },
  {
   "cell_type": "markdown",
   "metadata": {},
   "source": [
    "# Loading Documents"
   ]
  },
  {
   "cell_type": "code",
   "execution_count": 2,
   "metadata": {},
   "outputs": [],
   "source": [
    "import bs4\n",
    "from langchain_community.document_loaders import WebBaseLoader\n",
    "\n",
    "urls = [\n",
    "    \"https://docs.opensearch.org/docs/latest/query-dsl/\",\n",
    "    \"https://docs.opensearch.org/docs/latest/query-dsl/query-filter-context/\",\n",
    "    \"https://docs.opensearch.org/docs/latest/query-dsl/term-vs-full-text/\",\n",
    "    \"https://docs.opensearch.org/docs/latest/query-dsl/term/index/\",\n",
    "    \"https://docs.opensearch.org/docs/latest/query-dsl/term/exists/\",\n",
    "    \"https://docs.opensearch.org/docs/latest/query-dsl/term/fuzzy/\",\n",
    "    \"https://docs.opensearch.org/docs/latest/query-dsl/term/ids/\",\n",
    "    \"https://docs.opensearch.org/docs/latest/query-dsl/term/prefix/\",\n",
    "    \"https://docs.opensearch.org/docs/latest/query-dsl/term/range/\",\n",
    "    \"https://docs.opensearch.org/docs/latest/query-dsl/term/regexp/\",\n",
    "    \"https://docs.opensearch.org/docs/latest/query-dsl/term/term/\",\n",
    "    \"https://docs.opensearch.org/docs/latest/query-dsl/term/terms/\",\n",
    "    \"https://docs.opensearch.org/docs/latest/query-dsl/term/terms-set/\",\n",
    "    \"https://docs.opensearch.org/docs/latest/query-dsl/term/wildcard/\",\n",
    "    \"https://docs.opensearch.org/docs/latest/query-dsl/full-text/index/\",\n",
    "    \"https://docs.opensearch.org/docs/latest/query-dsl/full-text/match/\",\n",
    "    \"https://docs.opensearch.org/docs/latest/query-dsl/full-text/match-bool-prefix/\",\n",
    "    \"https://docs.opensearch.org/docs/latest/query-dsl/full-text/match-phrase/\",\n",
    "    \"https://docs.opensearch.org/docs/latest/query-dsl/full-text/match-phrase-prefix/\",\n",
    "    \"https://docs.opensearch.org/docs/latest/query-dsl/full-text/multi-match/\",\n",
    "    \"https://docs.opensearch.org/docs/latest/query-dsl/full-text/query-string/\",\n",
    "    \"https://docs.opensearch.org/docs/latest/query-dsl/full-text/simple-query-string/\",\n",
    "    \"https://docs.opensearch.org/docs/latest/query-dsl/full-text/intervals/\",\n",
    "    \"https://docs.opensearch.org/docs/latest/query-dsl/compound/index/\",\n",
    "    \"https://docs.opensearch.org/docs/latest/query-dsl/compound/bool/\",\n",
    "    \"https://docs.opensearch.org/docs/latest/query-dsl/compound/boosting/\",\n",
    "    \"https://docs.opensearch.org/docs/latest/query-dsl/compound/constant-score/\",\n",
    "    \"https://docs.opensearch.org/docs/latest/query-dsl/compound/disjunction-max/\",\n",
    "    \"https://docs.opensearch.org/docs/latest/query-dsl/compound/function-score/\",\n",
    "    \"https://docs.opensearch.org/docs/latest/query-dsl/compound/hybrid/\",\n",
    "    \"https://docs.opensearch.org/docs/latest/query-dsl/geo-and-xy/index/\",\n",
    "    \"https://docs.opensearch.org/docs/latest/query-dsl/geo-and-xy/geo-bounding-box/\",\n",
    "    \"https://docs.opensearch.org/docs/latest/query-dsl/geo-and-xy/geodistance/\",\n",
    "    \"https://docs.opensearch.org/docs/latest/query-dsl/geo-and-xy/geopolygon/\",\n",
    "    \"https://docs.opensearch.org/docs/latest/query-dsl/geo-and-xy/geoshape/\",\n",
    "    \"https://docs.opensearch.org/docs/latest/query-dsl/geo-and-xy/xy/\",\n",
    "    \"https://docs.opensearch.org/docs/latest/query-dsl/joining/index/\",\n",
    "    \"https://docs.opensearch.org/docs/latest/query-dsl/joining/has-child/\",\n",
    "    \"https://docs.opensearch.org/docs/latest/query-dsl/joining/has-parent/\",\n",
    "    \"https://docs.opensearch.org/docs/latest/query-dsl/joining/nested/\",\n",
    "    \"https://docs.opensearch.org/docs/latest/query-dsl/joining/parent-id/\",\n",
    "    \"https://docs.opensearch.org/docs/latest/query-dsl/span/index/\",\n",
    "    \"https://docs.opensearch.org/docs/latest/query-dsl/span/span-containing/\",\n",
    "    \"https://docs.opensearch.org/docs/latest/query-dsl/span/span-field-masking/\",\n",
    "    \"https://docs.opensearch.org/docs/latest/query-dsl/span/span-first/\",\n",
    "    \"https://docs.opensearch.org/docs/latest/query-dsl/span/span-multi-term/\",\n",
    "    \"https://docs.opensearch.org/docs/latest/query-dsl/span/span-near/\",\n",
    "    \"https://docs.opensearch.org/docs/latest/query-dsl/span/span-not/\",\n",
    "    \"https://docs.opensearch.org/docs/latest/query-dsl/span/span-or/\",\n",
    "    \"https://docs.opensearch.org/docs/latest/query-dsl/span/span-term/\",\n",
    "    \"https://docs.opensearch.org/docs/latest/query-dsl/span/span-within/\",\n",
    "    \"https://docs.opensearch.org/docs/latest/query-dsl/match-all/\",\n",
    "    \"https://docs.opensearch.org/docs/latest/query-dsl/specialized/index/\",\n",
    "    \"https://docs.opensearch.org/docs/latest/query-dsl/specialized/distance-feature/\",\n",
    "    \"https://docs.opensearch.org/docs/latest/query-dsl/specialized/k-nn/\",\n",
    "    \"https://docs.opensearch.org/docs/latest/query-dsl/specialized/neural/\",\n",
    "    \"https://docs.opensearch.org/docs/latest/query-dsl/specialized/neural-sparse/\",\n",
    "    \"https://docs.opensearch.org/docs/latest/query-dsl/specialized/script-score/\",\n",
    "    \"https://docs.opensearch.org/docs/latest/query-dsl/specialized/template/\",\n",
    "    \"https://docs.opensearch.org/docs/latest/query-dsl/minimum-should-match/\",\n",
    "]\n",
    "\n",
    "bs4_strainer = bs4.SoupStrainer(\"div\", class_=\"main-content\")\n",
    "\n",
    "web_loader = WebBaseLoader(\n",
    "    web_paths=urls,\n",
    "    bs_kwargs={\"parse_only\": bs4_strainer}\n",
    ")\n",
    "\n",
    "web_documents = web_loader.load()"
   ]
  },
  {
   "cell_type": "code",
   "execution_count": 3,
   "metadata": {},
   "outputs": [],
   "source": [
    "import re\n",
    "\n",
    "# Clean the content by replacing multiple whitespace characters with a single space\n",
    "for doc in web_documents:\n",
    "    doc.page_content = re.sub(r'\\s+', ' ', doc.page_content).strip()"
   ]
  },
  {
   "cell_type": "markdown",
   "metadata": {},
   "source": [
    "# Chunking"
   ]
  },
  {
   "cell_type": "code",
   "execution_count": 4,
   "metadata": {},
   "outputs": [
    {
     "name": "stdout",
     "output_type": "stream",
     "text": [
      "393\n"
     ]
    }
   ],
   "source": [
    "from langchain_text_splitters import RecursiveCharacterTextSplitter\n",
    "\n",
    "text_splitter = RecursiveCharacterTextSplitter(\n",
    "    chunk_size=1000,\n",
    "    chunk_overlap=200,\n",
    "    add_start_index=True,\n",
    ")\n",
    "\n",
    "docs = text_splitter.split_documents(web_documents)\n",
    "\n",
    "print(len(docs))\n",
    "# print(docs[1].page_content)"
   ]
  },
  {
   "cell_type": "markdown",
   "metadata": {},
   "source": [
    "# Embedding and Storing"
   ]
  },
  {
   "cell_type": "code",
   "execution_count": 5,
   "metadata": {},
   "outputs": [],
   "source": [
    "from langchain_milvus import Milvus\n",
    "from langchain_huggingface import HuggingFaceEmbeddings\n",
    "\n",
    "model_name = \"BAAI/bge-m3\"\n",
    "model_kwargs = {'device': 'cpu'}\n",
    "encode_kwargs = {'normalize_embeddings': True}\n",
    "\n",
    "embedding = HuggingFaceEmbeddings(\n",
    "    model_name=model_name,\n",
    "    model_kwargs=model_kwargs,\n",
    "    encode_kwargs=encode_kwargs\n",
    ")\n",
    "\n",
    "URI = \"./os_qdsl.db\"\n",
    "\n",
    "vectorstore = Milvus.from_documents(\n",
    "    documents=docs,\n",
    "    embedding=embedding,\n",
    "    collection_name=\"opensearch_docs\",\n",
    "    connection_args={\"uri\": URI},\n",
    "    drop_old=True,\n",
    ")"
   ]
  },
  {
   "cell_type": "markdown",
   "metadata": {},
   "source": [
    "# Context Retreival"
   ]
  },
  {
   "cell_type": "code",
   "execution_count": 6,
   "metadata": {},
   "outputs": [],
   "source": [
    "retriever = vectorstore.as_retriever(search_kwargs={\"k\": 4})\n",
    "\n",
    "# retrieved_docs = retriever.invoke(\"Get logs where status is 404 and method is GET\")\n",
    "# print(retrieved_docs[0])"
   ]
  },
  {
   "cell_type": "markdown",
   "metadata": {},
   "source": [
    "# Prompt Template"
   ]
  },
  {
   "cell_type": "code",
   "execution_count": 7,
   "metadata": {},
   "outputs": [],
   "source": [
    "from langchain.prompts import PromptTemplate\n",
    "\n",
    "template = \"\"\"\n",
    "You are an intelligent assistant that converts natural language questions into OpenSearch Query DSL.\n",
    "\n",
    "You are provided with context that may include field names, data types, index patterns, and filter conditions relevant to the OpenSearch dataset.\n",
    "\n",
    "### Context:\n",
    "{context}\n",
    "\n",
    "### Guidelines:\n",
    "- Parse the input to identify fields, values, operators (equals, greater than, etc.), and logical relationships.\n",
    "- Use appropriate Query DSL clauses such as `match`, `term`, `range`, or `bool` with `must`, `should`, and `filter`.\n",
    "- Always return a valid OpenSearch query body (JSON only), suitable for use in `_search` endpoints.\n",
    "- Do **not** include explanations or comments—output only the JSON inside a code block.\n",
    "\n",
    "### Input:\n",
    "{question}\n",
    "\n",
    "### Example:\n",
    "**Input**: \"Get logs where status is 404 and method is GET\"\n",
    "\n",
    "**Output**:\n",
    "```json\n",
    "{{\n",
    "  \"query\": {{\n",
    "    \"bool\": {{\n",
    "      \"must\": [\n",
    "        {{ \"term\": {{ \"status\": 404 }} }},\n",
    "        {{ \"term\": {{ \"method\": \"GET\" }} }}\n",
    "      ]\n",
    "    }}\n",
    "  }}\n",
    "}}\n",
    "\"\"\"\n",
    "custom_rag_prompt = PromptTemplate.from_template(template)"
   ]
  },
  {
   "cell_type": "markdown",
   "metadata": {},
   "source": [
    "# RAG Chain"
   ]
  },
  {
   "cell_type": "code",
   "execution_count": 8,
   "metadata": {},
   "outputs": [
    {
     "data": {
      "text/plain": [
       "'```json\\n{\\n  \"query\": {\\n    \"bool\": {\\n      \"must\": [\\n        { \"term\": { \"status\": 404 } },\\n        { \"term\": { \"method\": \"POST\" } }\\n      ]\\n    }\\n  }\\n}\\n```'"
      ]
     },
     "execution_count": 8,
     "metadata": {},
     "output_type": "execute_result"
    }
   ],
   "source": [
    "from langchain_core.output_parsers import StrOutputParser\n",
    "from langchain_core.runnables import RunnablePassthrough\n",
    "\n",
    "def format_docs(docs):\n",
    "  return \"\\n\\n\".join(doc.page_content for doc in docs)\n",
    "\n",
    "rag_chain = (\n",
    "    {\"context\": retriever | format_docs , \"question\": RunnablePassthrough()}\n",
    "    | custom_rag_prompt\n",
    "    | llm\n",
    "    | StrOutputParser()\n",
    ")\n",
    "\n",
    "rag_chain.invoke(\"Get all logs where status is 404 and method is POST\")"
   ]
  }
 ],
 "metadata": {
  "kernelspec": {
   "display_name": "venv",
   "language": "python",
   "name": "python3"
  },
  "language_info": {
   "codemirror_mode": {
    "name": "ipython",
    "version": 3
   },
   "file_extension": ".py",
   "mimetype": "text/x-python",
   "name": "python",
   "nbconvert_exporter": "python",
   "pygments_lexer": "ipython3",
   "version": "3.12.8"
  }
 },
 "nbformat": 4,
 "nbformat_minor": 2
}
