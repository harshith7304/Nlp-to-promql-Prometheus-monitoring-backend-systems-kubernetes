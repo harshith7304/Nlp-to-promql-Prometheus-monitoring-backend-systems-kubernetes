{
 "cells": [
  {
   "cell_type": "markdown",
   "metadata": {},
   "source": [
    "# Setting up Environment"
   ]
  },
  {
   "cell_type": "code",
   "execution_count": 1,
   "metadata": {},
   "outputs": [],
   "source": [
    "import os\n",
    "from dotenv import load_dotenv\n",
    "\n",
    "load_dotenv()\n",
    "os.environ[\"LANGCHAIN_API_KEY\"] = os.getenv(\"LANGCHAIN_API_KEY\")\n",
    "os.environ[\"LANGCHAIN_TRACING_V2\"] = \"true\"\n",
    "os.environ[\"USER_AGENT\"] = \"myagent\"\n",
    "os.environ[\"TOKENIZERS_PARALLELISM\"] = \"false\"\n",
    "\n",
    "os.environ[\"GROQ_API_KEY\"] = os.getenv(\"GROQ_API_KEY\")\n",
    "\n",
    "from langchain_groq import ChatGroq\n",
    "\n",
    "llm = ChatGroq(model=\"llama-3.1-8b-instant\")"
   ]
  },
  {
   "cell_type": "markdown",
   "metadata": {},
   "source": [
    "# Loading Documents"
   ]
  },
  {
   "cell_type": "code",
   "execution_count": 2,
   "metadata": {},
   "outputs": [],
   "source": [
    "import bs4\n",
    "from langchain_community.document_loaders import WebBaseLoader\n",
    "\n",
    "urls = [\n",
    "    \"https://www.elastic.co/guide/en/elasticsearch/reference/current/query-dsl.html\",\n",
    "    \"https://www.elastic.co/guide/en/elasticsearch/reference/current/query-filter-context.html\",\n",
    "    \"https://www.elastic.co/guide/en/elasticsearch/reference/current/compound-queries.html\",\n",
    "    \"https://www.elastic.co/guide/en/elasticsearch/reference/current/query-dsl-bool-query.html\",\n",
    "    \"https://www.elastic.co/guide/en/elasticsearch/reference/current/query-dsl-boosting-query.html\",\n",
    "    \"https://www.elastic.co/guide/en/elasticsearch/reference/current/query-dsl-constant-score-query.html\",\n",
    "    \"https://www.elastic.co/guide/en/elasticsearch/reference/current/query-dsl-dis-max-query.html\",\n",
    "    \"https://www.elastic.co/guide/en/elasticsearch/reference/current/query-dsl-function-score-query.html\",\n",
    "    \"https://www.elastic.co/guide/en/elasticsearch/reference/current/full-text-queries.html\",\n",
    "    \"https://www.elastic.co/guide/en/elasticsearch/reference/current/query-dsl-intervals-query.html\",\n",
    "    \"https://www.elastic.co/guide/en/elasticsearch/reference/current/query-dsl-match-query.html\",\n",
    "    \"https://www.elastic.co/guide/en/elasticsearch/reference/current/query-dsl-match-bool-prefix-query.html\",\n",
    "    \"https://www.elastic.co/guide/en/elasticsearch/reference/current/query-dsl-match-query-phrase.html\",\n",
    "    \"https://www.elastic.co/guide/en/elasticsearch/reference/current/query-dsl-match-query-phrase-prefix.html\",\n",
    "    \"https://www.elastic.co/guide/en/elasticsearch/reference/current/query-dsl-combined-fields-query.html\",\n",
    "    \"https://www.elastic.co/guide/en/elasticsearch/reference/current/query-dsl-multi-match-query.html\",\n",
    "    \"https://www.elastic.co/guide/en/elasticsearch/reference/current/query-dsl-query-string-query.html\",\n",
    "    \"https://www.elastic.co/guide/en/elasticsearch/reference/current/query-dsl-simple-query-string-query.html\",\n",
    "    \"https://www.elastic.co/guide/en/elasticsearch/reference/current/geo-queries.html\",\n",
    "    \"https://www.elastic.co/guide/en/elasticsearch/reference/current/query-dsl-geo-bounding-box-query.html\",\n",
    "    \"https://www.elastic.co/guide/en/elasticsearch/reference/current/query-dsl-geo-distance-query.html\",\n",
    "    \"https://www.elastic.co/guide/en/elasticsearch/reference/current/query-dsl-geo-grid-query.html\",\n",
    "    \"https://www.elastic.co/guide/en/elasticsearch/reference/current/query-dsl-geo-polygon-query.html\",\n",
    "    \"https://www.elastic.co/guide/en/elasticsearch/reference/current/query-dsl-geo-shape-query.html\",\n",
    "    \"https://www.elastic.co/guide/en/elasticsearch/reference/current/shape-queries.html\",\n",
    "    \"https://www.elastic.co/guide/en/elasticsearch/reference/current/query-dsl-shape-query.html\",\n",
    "    \"https://www.elastic.co/guide/en/elasticsearch/reference/current/joining-queries.html\",\n",
    "    \"https://www.elastic.co/guide/en/elasticsearch/reference/current/query-dsl-nested-query.html\",\n",
    "    \"https://www.elastic.co/guide/en/elasticsearch/reference/current/query-dsl-has-child-query.html\",\n",
    "    \"https://www.elastic.co/guide/en/elasticsearch/reference/current/query-dsl-has-parent-query.html\",\n",
    "    \"https://www.elastic.co/guide/en/elasticsearch/reference/current/query-dsl-parent-id-query.html\",\n",
    "    \"https://www.elastic.co/guide/en/elasticsearch/reference/current/query-dsl-match-all-query.html\",\n",
    "    \"https://www.elastic.co/guide/en/elasticsearch/reference/current/span-queries.html\",\n",
    "    \"https://www.elastic.co/guide/en/elasticsearch/reference/current/query-dsl-span-containing-query.html\",\n",
    "    \"https://www.elastic.co/guide/en/elasticsearch/reference/current/query-dsl-span-field-masking-query.html\",\n",
    "    \"https://www.elastic.co/guide/en/elasticsearch/reference/current/query-dsl-span-first-query.html\",\n",
    "    \"https://www.elastic.co/guide/en/elasticsearch/reference/current/query-dsl-span-multi-term-query.html\",\n",
    "    \"https://www.elastic.co/guide/en/elasticsearch/reference/current/query-dsl-span-near-query.html\",\n",
    "    \"https://www.elastic.co/guide/en/elasticsearch/reference/current/query-dsl-span-not-query.html\",\n",
    "    \"https://www.elastic.co/guide/en/elasticsearch/reference/current/query-dsl-span-or-query.html\",\n",
    "    \"https://www.elastic.co/guide/en/elasticsearch/reference/current/query-dsl-span-term-query.html\",\n",
    "    \"https://www.elastic.co/guide/en/elasticsearch/reference/current/query-dsl-span-within-query.html\",\n",
    "    \"https://www.elastic.co/guide/en/elasticsearch/reference/current/vector-queries.html\",\n",
    "    \"https://www.elastic.co/guide/en/elasticsearch/reference/current/query-dsl-knn-query.html\",\n",
    "    \"https://www.elastic.co/guide/en/elasticsearch/reference/current/query-dsl-sparse-vector-query.html\",\n",
    "    \"https://www.elastic.co/guide/en/elasticsearch/reference/current/query-dsl-semantic-query.html\",\n",
    "    \"https://www.elastic.co/guide/en/elasticsearch/reference/current/query-dsl-text-expansion-query.html\",\n",
    "    \"https://www.elastic.co/guide/en/elasticsearch/reference/current/query-dsl-weighted-tokens-query.html\",\n",
    "    \"https://www.elastic.co/guide/en/elasticsearch/reference/current/specialized-queries.html\",\n",
    "    \"https://www.elastic.co/guide/en/elasticsearch/reference/current/query-dsl-distance-feature-query.html\",\n",
    "    \"https://www.elastic.co/guide/en/elasticsearch/reference/current/query-dsl-mlt-query.html\",\n",
    "    \"https://www.elastic.co/guide/en/elasticsearch/reference/current/query-dsl-percolate-query.html\",\n",
    "    \"https://www.elastic.co/guide/en/elasticsearch/reference/current/query-dsl-rank-feature-query.html\",\n",
    "    \"https://www.elastic.co/guide/en/elasticsearch/reference/current/query-dsl-script-query.html\",\n",
    "    \"https://www.elastic.co/guide/en/elasticsearch/reference/current/query-dsl-script-score-query.html\",\n",
    "    \"https://www.elastic.co/guide/en/elasticsearch/reference/current/query-dsl-wrapper-query.html\",\n",
    "    \"https://www.elastic.co/guide/en/elasticsearch/reference/current/query-dsl-pinned-query.html\",\n",
    "    \"https://www.elastic.co/guide/en/elasticsearch/reference/current/query-dsl-rule-query.html\",\n",
    "    \"https://www.elastic.co/guide/en/elasticsearch/reference/current/term-level-queries.html\",\n",
    "    \"https://www.elastic.co/guide/en/elasticsearch/reference/current/query-dsl-exists-query.html\",\n",
    "    \"https://www.elastic.co/guide/en/elasticsearch/reference/current/query-dsl-fuzzy-query.html\",\n",
    "    \"https://www.elastic.co/guide/en/elasticsearch/reference/current/query-dsl-ids-query.html\",\n",
    "    \"https://www.elastic.co/guide/en/elasticsearch/reference/current/query-dsl-prefix-query.html\",\n",
    "    \"https://www.elastic.co/guide/en/elasticsearch/reference/current/query-dsl-range-query.html\",\n",
    "    \"https://www.elastic.co/guide/en/elasticsearch/reference/current/query-dsl-regexp-query.html\",\n",
    "    \"https://www.elastic.co/guide/en/elasticsearch/reference/current/query-dsl-term-query.html\",\n",
    "    \"https://www.elastic.co/guide/en/elasticsearch/reference/current/query-dsl-terms-query.html\",\n",
    "    \"https://www.elastic.co/guide/en/elasticsearch/reference/current/query-dsl-terms-set-query.html\",\n",
    "    \"https://www.elastic.co/guide/en/elasticsearch/reference/current/query-dsl-wildcard-query.html\",\n",
    "    \"https://www.elastic.co/guide/en/elasticsearch/reference/current/query-dsl-minimum-should-match.html\",\n",
    "    \"https://www.elastic.co/guide/en/elasticsearch/reference/current/query-dsl-multi-term-rewrite.html\",\n",
    "    \"https://www.elastic.co/guide/en/elasticsearch/reference/current/regexp-syntax.html\",\n",
    "]\n",
    "\n",
    "bs4_strainer = bs4.SoupStrainer(\"div\", class_=\"book\")\n",
    "\n",
    "web_loader = WebBaseLoader(\n",
    "    web_paths=urls,\n",
    "    bs_kwargs={\"parse_only\": bs4_strainer}\n",
    ")\n",
    "\n",
    "web_documents = web_loader.load()"
   ]
  },
  {
   "cell_type": "code",
   "execution_count": 3,
   "metadata": {},
   "outputs": [],
   "source": [
    "import re\n",
    "\n",
    "# Clean the content by replacing multiple whitespace characters with a single space\n",
    "for doc in web_documents:\n",
    "    doc.page_content = re.sub(r'\\s+', ' ', doc.page_content).strip()"
   ]
  },
  {
   "cell_type": "markdown",
   "metadata": {},
   "source": [
    "# Chunking"
   ]
  },
  {
   "cell_type": "code",
   "execution_count": 4,
   "metadata": {},
   "outputs": [
    {
     "name": "stdout",
     "output_type": "stream",
     "text": [
      "608\n"
     ]
    }
   ],
   "source": [
    "from langchain_text_splitters import RecursiveCharacterTextSplitter\n",
    "\n",
    "text_splitter = RecursiveCharacterTextSplitter(\n",
    "    chunk_size=1000,\n",
    "    chunk_overlap=200,\n",
    "    add_start_index=True,\n",
    ")\n",
    "\n",
    "docs = text_splitter.split_documents(web_documents)\n",
    "\n",
    "print(len(docs))\n",
    "# print(docs[1].page_content)"
   ]
  },
  {
   "cell_type": "markdown",
   "metadata": {},
   "source": [
    "# Embedding and Storing"
   ]
  },
  {
   "cell_type": "code",
   "execution_count": 5,
   "metadata": {},
   "outputs": [],
   "source": [
    "from langchain_milvus import Milvus\n",
    "from langchain_huggingface import HuggingFaceEmbeddings\n",
    "\n",
    "model_name = \"BAAI/bge-m3\"\n",
    "model_kwargs = {'device': 'cpu'}\n",
    "encode_kwargs = {'normalize_embeddings': True}\n",
    "\n",
    "embedding = HuggingFaceEmbeddings(\n",
    "    model_name=model_name,\n",
    "    model_kwargs=model_kwargs,\n",
    "    encode_kwargs=encode_kwargs\n",
    ")\n",
    "\n",
    "URI = \"./es_qdsl.db\"\n",
    "\n",
    "vectorstore = Milvus.from_documents(\n",
    "    documents=docs,\n",
    "    embedding=embedding,\n",
    "    collection_name=\"elasticsearch_docs\",\n",
    "    connection_args={\"uri\": URI},\n",
    "    drop_old=True,\n",
    ")"
   ]
  },
  {
   "cell_type": "markdown",
   "metadata": {},
   "source": [
    "# Context Retreival"
   ]
  },
  {
   "cell_type": "code",
   "execution_count": 6,
   "metadata": {},
   "outputs": [],
   "source": [
    "retriever = vectorstore.as_retriever(search_kwargs={\"k\": 4})\n",
    "\n",
    "# retrieved_docs = retriever.invoke(\"Get logs where status is 404 and method is GET\")\n",
    "# print(retrieved_docs[0])"
   ]
  },
  {
   "cell_type": "markdown",
   "metadata": {},
   "source": [
    "# Prompt Template"
   ]
  },
  {
   "cell_type": "code",
   "execution_count": 7,
   "metadata": {},
   "outputs": [],
   "source": [
    "from langchain.prompts import PromptTemplate\n",
    "\n",
    "template = \"\"\"\n",
    "You are an intelligent assistant that converts natural language questions into Elasticsearch Query DSL.\n",
    "\n",
    "You are provided with context that may include field names, data types, index patterns, and filter conditions relevant to the Elasticsearch dataset.\n",
    "\n",
    "### Context:\n",
    "{context}\n",
    "\n",
    "### Guidelines:\n",
    "- Parse the input to identify fields, values, operators (equals, greater than, etc.), and logical relationships.\n",
    "- Use appropriate DSL clauses such as `match`, `term`, `range`, or `bool` with `must`, `should`, and `filter`.\n",
    "- Always return a valid Elasticsearch query body (JSON only), suitable for use in `_search` endpoints.\n",
    "- Do **not** include explanations or comments—output only the JSON inside a code block.\n",
    "\n",
    "### Input:\n",
    "{question}\n",
    "\n",
    "### Example:\n",
    "**Input**: \"Get logs where status is 404 and method is GET\"\n",
    "\n",
    "**Output**:\n",
    "```json\n",
    "{{\n",
    "  \"query\": {{\n",
    "    \"bool\": {{\n",
    "      \"must\": [\n",
    "        {{ \"term\": {{ \"status\": 404 }} }},\n",
    "        {{ \"term\": {{ \"method\": \"GET\" }} }}\n",
    "      ]\n",
    "    }}\n",
    "  }}\n",
    "}}\n",
    "\"\"\"\n",
    "\n",
    "custom_rag_prompt = PromptTemplate.from_template(template)"
   ]
  },
  {
   "cell_type": "markdown",
   "metadata": {},
   "source": [
    "# RAG Chain"
   ]
  },
  {
   "cell_type": "code",
   "execution_count": 8,
   "metadata": {},
   "outputs": [
    {
     "data": {
      "text/plain": [
       "'```json\\n{\\n  \"query\": {\\n    \"bool\": {\\n      \"must\": [\\n        { \"term\": { \"status\": 404 } },\\n        { \"term\": { \"method\": \"POST\" } }\\n      ]\\n    }\\n  }\\n}\\n```'"
      ]
     },
     "execution_count": 8,
     "metadata": {},
     "output_type": "execute_result"
    }
   ],
   "source": [
    "from langchain_core.output_parsers import StrOutputParser\n",
    "from langchain_core.runnables import RunnablePassthrough\n",
    "\n",
    "def format_docs(docs):\n",
    "  return \"\\n\\n\".join(doc.page_content for doc in docs)\n",
    "\n",
    "rag_chain = (\n",
    "    {\"context\": retriever | format_docs , \"question\": RunnablePassthrough()}\n",
    "    | custom_rag_prompt\n",
    "    | llm\n",
    "    | StrOutputParser()\n",
    ")\n",
    "\n",
    "rag_chain.invoke(\"Get all logs where status is 404 and method is POST\")"
   ]
  }
 ],
 "metadata": {
  "kernelspec": {
   "display_name": "venv",
   "language": "python",
   "name": "python3"
  },
  "language_info": {
   "codemirror_mode": {
    "name": "ipython",
    "version": 3
   },
   "file_extension": ".py",
   "mimetype": "text/x-python",
   "name": "python",
   "nbconvert_exporter": "python",
   "pygments_lexer": "ipython3",
   "version": "3.12.8"
  }
 },
 "nbformat": 4,
 "nbformat_minor": 2
}
